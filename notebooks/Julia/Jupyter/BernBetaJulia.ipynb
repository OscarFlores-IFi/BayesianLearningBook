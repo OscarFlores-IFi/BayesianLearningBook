{
 "cells": [
  {
   "cell_type": "markdown",
   "metadata": {},
   "source": [
    "## Bayesian analysis of the Bernoulli model"
   ]
  },
  {
   "cell_type": "markdown",
   "metadata": {},
   "source": [
    "### Installing and loading some packages"
   ]
  },
  {
   "cell_type": "code",
   "execution_count": null,
   "metadata": {
    "jupyter": {
     "source_hidden": true
    }
   },
   "outputs": [
    {
     "name": "stderr",
     "output_type": "stream",
     "text": [
      "\u001b[32m\u001b[1m Activating\u001b[22m\u001b[39m environment at `~/Desktop/Project.toml`\n",
      "\u001b[32m\u001b[1m   Updating\u001b[22m\u001b[39m registry at `~/.julia/registries/General`\n",
      "######################################################################### 100.0%\n",
      "\u001b[32m\u001b[1m  Resolving\u001b[22m\u001b[39m package versions...\n",
      "\u001b[32m\u001b[1mNo Changes\u001b[22m\u001b[39m to `~/Desktop/Project.toml`\n",
      "\u001b[32m\u001b[1mNo Changes\u001b[22m\u001b[39m to `~/Desktop/Manifest.toml`\n",
      "\u001b[32m\u001b[1m   Building\u001b[22m\u001b[39m GR → `~/.julia/packages/GR/9Vi4m/deps/build.log`\n"
     ]
    }
   ],
   "source": [
    "begin\n",
    "    import Pkg\n",
    "    Pkg.activate(\".\")\n",
    "    Pkg.add([\"Plots\",\"LaTeXStrings\",\"Distributions\", \"ColorSchemes\"])\n",
    "    Pkg.build(\"GR\")\n",
    "    using Plots, LaTeXStrings\n",
    "    import Distributions: Beta, pdf\n",
    "    import ColorSchemes.Paired_12;\n",
    "    colors = Paired_12[[1,2,7,8,3,4,5,6,9,10]]\n",
    "    nothing\n",
    "end"
   ]
  },
  {
   "cell_type": "markdown",
   "metadata": {},
   "source": [
    "**Bernoulli model**:\n",
    "\n",
    "$$x_1,\\ldots,x_n |\\theta \\overset{\\mathrm{iid}}{\\sim} \\mathrm{Bernoulli}(\\theta)$$\n",
    "\n",
    "**Beta prior**:\n",
    "\n",
    "$$\\theta \\sim \\mathrm{Beta}(\\alpha,\\beta)$$\n",
    "\n",
    "**Beta posterior**:\n",
    "\n",
    "$$\\theta | x_1,\\ldots,x_n \\sim \\mathrm{Beta}(\\alpha+s,\\beta+f),$$\n",
    "\n",
    "where $s=\\sum_{i=1}^n x_i$ is the number of successes and $f = n-s$ is the number of failures."
   ]
  },
  {
   "cell_type": "markdown",
   "metadata": {},
   "source": [
    "### Set up the data and prior hyperparameters"
   ]
  },
  {
   "cell_type": "code",
   "execution_count": null,
   "metadata": {},
   "outputs": [],
   "source": [
    "n = 100         \n",
    "s = 5\n",
    "α = 3\n",
    "β = 3;"
   ]
  },
  {
   "cell_type": "code",
   "execution_count": null,
   "metadata": {
    "jupyter": {
     "source_hidden": true
    }
   },
   "outputs": [],
   "source": [
    "# Function to compute the Beta posterior and moments\n",
    "function BernBeta(s, f, α, β)\n",
    "    priorMean = α/(α+β)\n",
    "    priorStd = √(α*β/((α+β)^2*(α+β+1)))\n",
    "    αPost = α + s\n",
    "    βPost = β + f\n",
    "    postMean = αPost/(αPost+βPost)\n",
    "    postStd = √(αPost*βPost/((αPost+βPost)^2*(αPost+βPost+1)))\n",
    "    post = Beta(αPost, βPost)\n",
    "    return post, αPost, βPost, priorMean, priorStd, postMean, postStd\n",
    "end\n",
    "post, αPost, βPost, priorMean, priorStd, postMean, postStd = BernBeta(s, n-s, α, β)\n",
    "f = n - s\n",
    "θGrid = range(eps(),1-eps(), length = 1000)\n",
    "binWidth = θGrid[2]-θGrid[1]\n",
    "logℓ = s*log.(θGrid) .+ f*log.(1 .- θGrid)\n",
    "like = exp.(logℓ .- maximum(logℓ))\n",
    "normLike = like/(sum(like)*binWidth)\n",
    "plot(θGrid, pdf.(Beta(α,β),θGrid), lw = 3, color = colors[6], xlabel = L\"\\theta\", label = \"Prior\", yaxis = false)\n",
    "plot!(θGrid, normLike, lw = 3, color = colors[2], label = \"Likelihood\")\n",
    "plot!(θGrid, pdf.(Beta(αPost,βPost),θGrid), lw = 3, color = colors[4], label = \"Posterior\")"
   ]
  }
 ],
 "metadata": {
  "kernelspec": {
   "display_name": "Julia 1.5.3",
   "language": "julia",
   "name": "julia-1.5"
  },
  "language_info": {
   "file_extension": ".jl",
   "mimetype": "application/julia",
   "name": "julia",
   "version": "1.5.3"
  }
 },
 "nbformat": 4,
 "nbformat_minor": 4
}
