{
 "cells": [
  {
   "cell_type": "markdown",
   "metadata": {},
   "source": [
    "# Modeling the number of Bids in eBay coin auctions\n",
    "\n",
    "a notebook for the book [Bayesian Learning](https://github.com/mattiasvillani/BayesianLearningBook/raw/main/pdf/BayesBook.pdf) by [Mattias Villani](http://mattiasvillani.com) "
   ]
  },
  {
   "cell_type": "markdown",
   "metadata": {},
   "source": [
    "### Problem\n",
    "We want learn about the number of bidders in a eBay internet auction. The dataset below contains information on the number of bidders and covariates/features that can be used to predict the number of bidders. We will later use a Poisson regression to build a prediction model, but we will here only analyze the number of bids using an simple iid Poission model without covariates."
   ]
  },
  {
   "cell_type": "markdown",
   "metadata": {},
   "source": [
    "### Import modules and load the data"
   ]
  },
  {
   "cell_type": "code",
   "execution_count": null,
   "metadata": {},
   "outputs": [],
   "source": [
    "set.seed(123) # Set the seed for reproducibility\n",
    "options(repr.plot.width=15, repr.plot.height=6, lwd = 4)\n",
    "#install.packages(\"RColorBrewer\")\n",
    "library(\"RColorBrewer\")\n",
    "colors = brewer.pal(12, \"Paired\")\n",
    "\n",
    "# Load the data\n",
    "eBayData = read.csv('https://github.com/mattiasvillani/BayesianLearningBook/raw/main/data/ebaybids/ebaybids.csv', sep = ',')\n",
    "nBids = eBayData$nBids"
   ]
  },
  {
   "cell_type": "markdown",
   "metadata": {},
   "source": [
    "### Data\n",
    "The dataset contains data from 1000 auctions of collector coins. The dataset was collected and first analyzed in the article [Bayesian Inference in Structural Second-Price Common Value Auctions](https://www.jstor.org/stable/23243804?seq=1). Let's read in the full dataset and extract the variable of interest, the number of bids (nBids):"
   ]
  },
  {
   "cell_type": "code",
   "execution_count": null,
   "metadata": {},
   "outputs": [],
   "source": [
    "eBayData = read.csv('https://github.com/mattiasvillani/BayesianLearningBook/raw/main/data/ebaybids/ebaybids.csv', sep = ',')\n",
    "nBids = eBayData$nBids"
   ]
  },
  {
   "cell_type": "markdown",
   "metadata": {},
   "source": [
    "### Prior-to-Posterior updating\n",
    "\n",
    "We will model these data using a **Poisson distribution**: \n",
    "$$y_1,...,y_n \\vert \\theta \\overset{iid}{\\sim} \\mathrm{Poisson}(\\theta)$$\n",
    "\n",
    "with a conjugate **Gamma prior**\n",
    "\n",
    "$$\\theta  \\sim \\mathrm{Gamma}(\\alpha, \\beta)$$ \n",
    "\n",
    "so that the **posterior** is also Gamma:\n",
    "$$\\theta \\vert y_1,\\ldots,y_n \\sim \\mathrm{Gamma}(\\alpha + \\sum_{i=1}^n y_i, \\beta + n)$$"
   ]
  },
  {
   "cell_type": "code",
   "execution_count": null,
   "metadata": {},
   "outputs": [],
   "source": [
    "PostPoisson <- function(y, alphaPrior, betaPrior, thetaPriorGrid = NA, thetaPostGrid = NA){\n",
    "\n",
    "    # Compute Prior density and posterior\n",
    "    priorDens = dgamma(thetaPriorGrid, shape = alphaPrior, rate = betaPrior)\n",
    "    n = length(y)\n",
    "    alphaPost = alphaPrior + sum(y)\n",
    "    betaPost = betaPrior + n\n",
    "    postDens = dgamma(thetaPostGrid, shape = alphaPost, rate = betaPost)\n",
    "    \n",
    "    message(paste('Mean number of counts = ', mean(y)))\n",
    "    message(paste('Prior mean = ', alphaPrior/betaPrior))\n",
    "    message(paste('Posterior mean = ', round(alphaPost/betaPost,3)))\n",
    "    message(paste('Prior standard deviation = ', sqrt(alphaPrior/(betaPrior**2))))\n",
    "    message(paste('Posterior standard deviation = ', sqrt( (alphaPrior+sum(y))/((betaPrior+n)**2)) ))\n",
    "    message(paste('Equal tail 95% prior interval: (' ,qgamma(0.025, shape = alphaPrior, rate = betaPrior),',',qgamma(0.975, shape = alphaPrior, rate = betaPrior),')'))\n",
    "    message(paste('Equal tail 95% posterior interval: (' ,qgamma(0.025, shape = alphaPost, rate = betaPost),',',qgamma(0.975, shape = alphaPost, rate = betaPost),')'))\n",
    "\n",
    "    if ( any(is.na(thetaPriorGrid)) != TRUE){\n",
    "        par(mfrow = c(1,2))\n",
    "        plot(thetaPriorGrid, priorDens, type = \"l\", lwd = 3, col = colors[2], xlab = expression(theta), ylab = \"PDF\", main = 'Prior distribution')\n",
    "        plot(thetaPostGrid, postDens, type = \"l\", lwd = 3, col = colors[8], xlab = expression(theta), ylab = \"PDF\", main = 'Posterior distribution')\n",
    "    }\n",
    "}\n",
    "\n",
    "alphaPrior = 2\n",
    "betaPrior = 1/2\n",
    "PostPoisson(y = nBids, alphaPrior = 2, betaPrior = 1/2,\n",
    "            thetaPriorGrid = seq(0.01, 12, length = 10000), thetaPostGrid = seq(3.25, 4, length = 10000))"
   ]
  },
  {
   "cell_type": "markdown",
   "metadata": {},
   "source": [
    "### Fit of the Poisson model\n",
    "Let's plot the data along with the fitted Poisson model. We'll keep things simple and plot the fit for the posterior mean of $\\theta$."
   ]
  },
  {
   "cell_type": "code",
   "execution_count": null,
   "metadata": {},
   "outputs": [],
   "source": [
    "plotPoissonFit <- function(y, alphaPrior, betaPrior){\n",
    "    \n",
    "    # Compute empirical distribution of the data\n",
    "    n = length(y)\n",
    "    yGrid = seq(0, max(y))\n",
    "    probs = rep(NA,max(y)+1)\n",
    "    for (i in yGrid){\n",
    "        probs[i+1] = sum(y == i)/n\n",
    "    }\n",
    "    \n",
    "    # Compute posterior mean and Poisson model fit\n",
    "    alphaPost = alphaPrior + sum(y)\n",
    "    betaPost = betaPrior + n\n",
    "    postMean = alphaPost/betaPost\n",
    "    \n",
    "    # Plot the data and model fit\n",
    "    poisFit = dpois(yGrid, lambda = postMean) \n",
    "    plot(yGrid, probs, type = \"o\", lwd = 6, xlab = \"y\", ylab = \"PMF\", col = colors[1], main = 'Fitted Poisson model', \n",
    "           ylim = c(0,max(probs, poisFit)))\n",
    "    lines(yGrid, poisFit, col = colors[2], lwd = 6, type = \"o\")\n",
    "    legend(x = \"topright\", inset=.05, legend = c(\"Data distribution\", \"Poisson fit\"), pch = c(19,19), cex = c(1,1),\n",
    "       lty = c(1, 1), pt.lwd = c(3,3), col = c(colors[1], colors[2]))\n",
    "}"
   ]
  },
  {
   "cell_type": "code",
   "execution_count": null,
   "metadata": {},
   "outputs": [],
   "source": [
    "alphaPrior = 2\n",
    "betaPrior = 1/2\n",
    "plotPoissonFit(y = nBids, alphaPrior = alphaPrior, betaPrior = betaPrior)"
   ]
  },
  {
   "cell_type": "markdown",
   "metadata": {},
   "source": [
    "Wow, that's are terrible fit! This data does not look at all like a Poisson distribution. What can we do? \n",
    "\n",
    "### Analyzing only the auctions with low reservation prices\n",
    "\n",
    "We will later model the number of bids using a Poisson *regression* where we take into account several explanatory variables. But, for now, let's split the auctions in two subsets:\\\n",
    "i) auctions with low reservation price in relation to the item's book value (MinBidShare<=0)\\\n",
    "ii) auctions with high reservation price in relation to the item's book value (MinBidShare>0)\n",
    "\n",
    "Let's start with the 550 auction with low reservation prices. The prior for the auction with low reservation prices is set to $\\theta \\sim \\mathrm{Gamma}(4,1/2)$ to reflect a belief that belief that such auctions are likely to attract more bids."
   ]
  },
  {
   "cell_type": "code",
   "execution_count": null,
   "metadata": {},
   "outputs": [],
   "source": [
    "# Auctions with low reservation prices:\n",
    "nBidsLow = nBids[eBayData$MinBidShare<=0]\n",
    "PostPoisson(y = nBidsLow, alphaPrior = 4, betaPrior = 1/2,\n",
    "            thetaPriorGrid = seq(0.01, 25,length = 10000), thetaPostGrid = seq(4.8, 5.8, length = 10000))"
   ]
  },
  {
   "cell_type": "markdown",
   "metadata": {},
   "source": [
    "As expected, the posterior for the mean number of bids is concentrated on a larger number of bids. People like to bid on items where the seller's reservation price is low.\n",
    "\n",
    "Is the first for these auctions improved? Yes it is, although there is still room for improvement:"
   ]
  },
  {
   "cell_type": "code",
   "execution_count": null,
   "metadata": {},
   "outputs": [],
   "source": [
    "# Plot the fit for low bids\n",
    "plotPoissonFit(y = nBidsLow, alphaPrior = alphaPrior, betaPrior = betaPrior)"
   ]
  },
  {
   "cell_type": "markdown",
   "metadata": {},
   "source": [
    "### Analyzing the auctions with high reservation prices\n",
    "\n",
    "Below are the results for the auction with high reservation bids. The prior is here set to $\\theta \\sim \\mathrm{Gamma}(1,1/2)$ implying less on average. "
   ]
  },
  {
   "cell_type": "code",
   "execution_count": null,
   "metadata": {},
   "outputs": [],
   "source": [
    "# Auctions with high reservation prices:\n",
    "nBidsHigh = nBids[eBayData$MinBidShare>0]\n",
    "PostPoisson(y = nBidsHigh, alphaPrior = 1, betaPrior = 1/2,\n",
    "            thetaPriorGrid = seq(0.01, 12, length = 10000), thetaPostGrid = seq(1.3, 1.8,length = 10000))"
   ]
  },
  {
   "cell_type": "markdown",
   "metadata": {},
   "source": [
    "And the fit is not perfect for these bids, but better than before."
   ]
  },
  {
   "cell_type": "code",
   "execution_count": null,
   "metadata": {},
   "outputs": [],
   "source": [
    "# Plot the fit for high bids\n",
    "plotPoissonFit(y = nBidsHigh, alphaPrior = alphaPrior, betaPrior = betaPrior)"
   ]
  },
  {
   "cell_type": "markdown",
   "metadata": {},
   "source": [
    "So, separating the bids into dataset with low and high reservation prices makes the Poisson model a lot better for the data. Later in the book, we will use a Poisson regression with \n",
    "reservation price as one of the features, which an even more fine grained analysis. "
   ]
  },
  {
   "cell_type": "code",
   "execution_count": null,
   "metadata": {},
   "outputs": [],
   "source": []
  }
 ],
 "metadata": {
  "kernelspec": {
   "display_name": "R",
   "language": "R",
   "name": "ir"
  },
  "language_info": {
   "codemirror_mode": "r",
   "file_extension": ".r",
   "mimetype": "text/x-r-source",
   "name": "R",
   "pygments_lexer": "r",
   "version": "3.6.3"
  }
 },
 "nbformat": 4,
 "nbformat_minor": 4
}
